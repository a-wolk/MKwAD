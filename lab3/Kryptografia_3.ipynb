{
 "cells": [
  {
   "cell_type": "markdown",
   "metadata": {
    "id": "O4N_EaD6qK27"
   },
   "source": [
    "# RSA\n",
    "\n",
    "Rivest Shamir Adleman (RSA) jest jednym z pierwszych algorytmów asymetrycznych. Został zaprojektowany w 1977 roku i jest używany do dzisiejszego dnia. Zyskał akceptację zarówno NISTu jak i organizacji ISO/IEC oraz RFC. RSA posiada parę kluczy - publiczny oraz prywatny. Publiczny klucz może być znany każdemu i służy on do operacji szyfrowania. Klucz prywatny jest znany tylko i wyłącznie instancji, która klucze generowała. Ta sama instancja jako jedna jedyna ma możliwość odszyfrowania kryptogramów.\n",
    "\n",
    "RSA umożliwia także tworzenie podpisów cyfrowych (z ang *Digital Signatures*, czyli *DS*). Podpis cyfrowy to dodatkowy blok informacji dołączony do wiadomości, który zapewnia:\n",
    "1. *Integrity* - integralność wiadomości, czyli potwierdzenie, że nie była ona w żaden sposób modyfikowana.\n",
    "2. *Authentication* - autentykacje podpisującego, czyli potwierdzenie jego tożsamości.\n",
    "3. *Non-repudiation* - czyli wysyłający podpisaną wiadomość nie ma możliwości zaprzeczenia faktu, że to on ją podpisał, natomiast otrzymujący wiadomość nie ma możliwości zaprzeczenia faktu, iż to on ją zweryfikował. \n",
    "\n",
    "Samo haszowanie wiadomości zapewnia tylko *integirty*, natomiast utworzenie kodu MAC (*Message Authentiaction Code*) zapewnia jedynie *integrity* oraz *authentiaction*.\n",
    "\n",
    "Tworzenie podpisu cyfrowego z wykorzystaniem RSA wygląda odwrotnie niż komunikacja szyfrowana. To znaczy: podpis tworzony jest z wykorzystaniem klucza prywatnego - a więc tylko instancja generująca klucze może wiadomość podpisać. Weryfikacja odbywa się z wykorzystaniem klucza publicznego - czyli każda instancja, której nasz klucz udostępnimy, może podpis zweryfikować. \n",
    "\n",
    "Na początek zaimportujmy niezbędne biblioteki."
   ]
  },
  {
   "cell_type": "code",
   "execution_count": 1,
   "metadata": {},
   "outputs": [
    {
     "name": "stdout",
     "output_type": "stream",
     "text": [
      "Requirement already satisfied: pycryptodome in /home/arczipt/.local/lib/python3.8/site-packages (3.17)\r\n"
     ]
    }
   ],
   "source": [
    "!pip install pycryptodome"
   ]
  },
  {
   "cell_type": "code",
   "execution_count": 2,
   "metadata": {
    "id": "F7OxWY2Mz7BD"
   },
   "outputs": [],
   "source": [
    "import Crypto.Util.number as cu\n",
    "import hashlib as hl\n",
    "import math"
   ]
  },
  {
   "cell_type": "markdown",
   "metadata": {
    "id": "64vuvjiEuP3M"
   },
   "source": [
    "**Zadanie 1**\n",
    "\n",
    "Odpowiedz na poniższe pytania. Rozważ sytuację, w której dwie instancje komunikują się ze sobą, a trzecia próbuje dokonywać nieautoryzowanych zmian w treści wiadomości na drodze jej przesyłu.\n",
    "1. Dlaczego haszowanie zapewnia tylko integrity? Podpowiedź: czy haszowanie uwzględnia jakikolwiek klucz prywatny?\n",
    "2. Dlaczego kod MAC nie zapewnia *non-repudiation*? Co (niepożądanego) może dokonać odbierający wiadomość i atakujący komunikację? Podpowiedź: czy kody MAC, w szczególności popularny kod HMAC - który zakłada użycie klucza prywatnego - w jakikolwiek sposób weryfikuje KTO i DO CZEGO go użył? Kto dysponuje, a kto NIE dysponuje kluczem prywatnym HMAC?\n",
    "3. Dlaczego podpis cyfrowy zapewnia wszystkie te trzy cechy?"
   ]
  },
  {
   "cell_type": "markdown",
   "metadata": {
    "id": "2qE7Uzp2xXKM"
   },
   "source": [
    "## Generowanie kluczy\n",
    "\n",
    "Algorytm generowania kluczy RSA może zostać przedstawiony w następujący sposób:\n",
    "\n",
    "1) Znajdź dwie różne i kryptograficznie bezpieczne liczby pierwsze.\n",
    "\n",
    "2) Oblicz $n = p * q$.\n",
    "\n",
    "3) Oblicz $f = (p - 1) * (q - 1)$.\n",
    "\n",
    "4) Znajdź dowolne $e$, takie, że $1 < e < f$ oraz $GCD(f, e) = 1$. GCD to największy wspólny dzielnik. Para $(e, n)$ to jest **klucz publiczny**.\n",
    "\n",
    "5) Oblicz $d = e^{-1}$ mod $f$. Para $(d, n)$ to **klucz prywatny**, przy czym tajne jest tylko $d$. "
   ]
  },
  {
   "cell_type": "markdown",
   "metadata": {
    "id": "1MRcuBhC0UHA"
   },
   "source": [
    "W ten sposób generowane parametry byłyby matematycznie poprawne, lecz kryptograficznie niebezpieczne. Ustalmy więc, że chcemy aby nasz klucz publiczny był odpwowiednio długi. Będzie to długość bitowa parametru $n$, oznaczmy ją jako $nlen = 2048$. Parametr $nlen$ zawsze przyjmuje parzyste wartości. Mając to założenie, musimy (**uwzględniając wszystkie założenia z algorytmu generowania kluczy**) dodatkowo zapewnić, że:\n",
    "\n",
    "1. $65537 ≤ e < 2^{256}$\n",
    "2. $LCM(p - 1, q - 1) \\geq e * 2^{nlen/2}$\n",
    "3. $2^{(nlen - 1)//2} < p < 2^{nlen/2}$\n",
    "4. $2^{(nlen - 1)//2} < q < 2^{nlen/2}$\n",
    "5. $|p - q| > 2^{(nlen/2) - 100}$\n",
    "\n",
    "Gdzie LCM oznacza *Least Common Multiple*, czyli najmniejszą wspólną wielokrotność. Funkcję LCM znajdziesz w bibliotece math. Do potęgowania **nie używaj** pythonowej notacji \"**\", tylko metody pow() - przetestuj obie te metody obliczania potęgi i porównaj wydajność (zadanie opcjonalne). Do obliczania wartości bezwzględnej użyj metody abs() - również standardowa metoda pythona. Resztę niezbędnych metod znajdziesz w bibliotece [Crypto.Util.number](https://pycryptodome.readthedocs.io/en/latest/src/util/util.html) zaimpoertowanej jako cu. Opis powyższych założeń możesz znaleźć w [tym](https://nvlpubs.nist.gov/nistpubs/SpecialPublications/NIST.SP.800-56Br2.pdf) dokumencie NIST-owym."
   ]
  },
  {
   "cell_type": "markdown",
   "metadata": {
    "id": "5inlXTklGGMv"
   },
   "source": [
    "**Zadanie 2**\n",
    "\n",
    "Uwzględniając wszystko powyższe, napisz metodę/metody generujące wartości $n$, $e$ oraz $d$."
   ]
  },
  {
   "cell_type": "code",
   "execution_count": 177,
   "metadata": {
    "id": "tRiOWsS7GRL9"
   },
   "outputs": [],
   "source": [
    "nlen = 2048\n",
    "\n",
    "e = 65537\n",
    "p = cu.getStrongPrime(int(nlen/2), e)\n",
    "q = cu.getStrongPrime(int(nlen/2), e)\n",
    "n = p * q\n",
    "f = (p - 1) * (q - 1)\n",
    "d = cu.inverse(e, f)"
   ]
  },
  {
   "cell_type": "code",
   "execution_count": 178,
   "metadata": {},
   "outputs": [
    {
     "data": {
      "text/plain": [
       "True"
      ]
     },
     "execution_count": 178,
     "metadata": {},
     "output_type": "execute_result"
    }
   ],
   "source": [
    "conditions = [\n",
    "    cu.GCD(e, f) == 1,\n",
    "    2**((nlen-1) // 2) < p,\n",
    "    2**((nlen-1) // 2) < q,\n",
    "    abs(p-q) > 2**(nlen/2 - 100)\n",
    "]\n",
    "\n",
    "len([condition for condition in conditions if condition]) == len(conditions)"
   ]
  },
  {
   "cell_type": "markdown",
   "metadata": {
    "id": "wae-whoNGlz_"
   },
   "source": [
    "## Naiwne szyfrowanie i deszyfrowanie"
   ]
  },
  {
   "cell_type": "markdown",
   "metadata": {
    "id": "fESNrzCYNVfy"
   },
   "source": [
    "\n",
    "Naiwny algorytm szyfrowania wiadomości **M** z wykorzystaniem RSA:\n",
    "\n",
    "1) Zakoduj $M$ jako liczbę.\n",
    "\n",
    "2) Oblicz: $C = M^e$ mod $n$."
   ]
  },
  {
   "cell_type": "markdown",
   "metadata": {
    "id": "FQvVgWWrHBX2"
   },
   "source": [
    "Naiwny algorytm deszyfrowania kryptogramu **C** z wykorzystaniem RSA:\n",
    "\n",
    "1) $M = C^d$ mod $n$.\n",
    "\n",
    "2) Zdekoduj wiadomość $M$ do jej pierwotnej postaci (np. stringa). \n"
   ]
  },
  {
   "cell_type": "markdown",
   "metadata": {
    "id": "mFRFP0BsHc9l"
   },
   "source": [
    "**Zadanie 3**\n",
    "\n",
    "Napisz metody szyfrujące i deszyfrujące wiadomość $M$ zgodnie z powyższym algorytmem. Zaszyfruj wiadomość, zdeszyfruj i wypisz oryginalny tekst na ekranie. Odpowiedz na pytanie: jaki warunek musi spełniać liczbowa reprezentacja wiadomości $M$, aby można ją było poprawnie zaszyfrować i zdeszyfrować?"
   ]
  },
  {
   "cell_type": "code",
   "execution_count": 179,
   "metadata": {},
   "outputs": [],
   "source": [
    "import Crypto.Math.Numbers as cn"
   ]
  },
  {
   "cell_type": "code",
   "execution_count": 180,
   "metadata": {},
   "outputs": [],
   "source": [
    "def rsa_encode(m):\n",
    "    eM = cn.Integer.from_bytes(m)\n",
    "    return eM.inplace_pow(e, n).to_bytes()\n",
    "\n",
    "def rsa_decode(m):\n",
    "    C = cn.Integer.from_bytes(m)\n",
    "    dM = C.inplace_pow(d, n)\n",
    "    return dM.to_bytes()"
   ]
  },
  {
   "cell_type": "code",
   "execution_count": 181,
   "metadata": {
    "id": "N3y7NMf_HkuB"
   },
   "outputs": [
    {
     "name": "stdout",
     "output_type": "stream",
     "text": [
      "b'Y\\xd6\\xb1\\xc0\\x9e\\xa5%\\xf6\\x82 yz\\xf8\\xa1\\x97\\xef-\\xba\\xe4d\\xc2\\'\\xdfD\\xf1t\\xb8\\x02\\xc9-\"\\xcb;Iz\\x8a\\xb4Q\\xc3u\\xf6\\xfe\\x07x\\x1fr\\x0c\\xb0\\xac\\xc2#2\\xa55p\\xb6\\n\\xb1\\xea\\xb1\\xe6Q9h\\xc6{\\xdf\\x06\\xff\\x1a7V\\xe1\\'\\x8bg\\xb9]\\xbf+\\x80C\\xf5#h\\x13:Kh\\t\\x9a.*\\x8c\\xd2\\xcbBiv[\\xe9\\xc0M\\x80\\xdb,Z\\xb7>\\xe8\\xbc\\xbc\\xef\\xc9\\xc7\\x01\\xfeR~y\\xf9\\xa0_\\xf1\\xabn7\\xef\\x13\\xb3\\xf9\\x8d\\x9b_\\xf3\\x8a\\xb7k\\xfe\\xac\\xa5|r\\xe3\\xf1\\xba\\xa9\\x02FM\\xb3\\xb1\\r\\xd7-u\\xa37\\x07\\xa5\\x1ejBd\\x8c\\x82\\xc7\\x1b\\x94u\\xbe\\x95W\\xd8\\x8e\\x8cQ\\xe3\\xb7T7\\xe2\\xe1\\x16\\x07\\x94r~\\x14u\\x0b\\x95\\xa4&\\xd5`P\\xcc e\\xf0e\\xf7;\\xe7\\x1eQ\\x87\\xa5vW\\x9fF\\x03\\x8bm3\\xe2*\\xb8\\x83\\xc4\\x04\\xc4:cR\\\\\\xcf\\xc1\\x10\\xb5;\\xcd\\xd5\\xcd\\xa32\\xdf\\xadL\\x1f?3W+\\xc7l\\xda\\x85gg\\xe1}\\xaav'\n",
      "b'Ala ma kota'\n"
     ]
    }
   ],
   "source": [
    "M = \"Ala ma kota\".encode('utf-8')\n",
    "\n",
    "eM = rsa_encode(M)\n",
    "print(eM)\n",
    "print(rsa_decode(eM))"
   ]
  },
  {
   "cell_type": "markdown",
   "metadata": {
    "id": "NjF8Fr_dN0s6"
   },
   "source": [
    "## Naiwny schemat podpisu cyfrowego"
   ]
  },
  {
   "cell_type": "markdown",
   "metadata": {
    "id": "AsvkSf9zN4i8"
   },
   "source": [
    "Naiwna metoda tworzenia podpisu z wiadmości $M$:\n",
    "\n",
    "1) Oblicz $h = H(M)$. H to uzgodniona funkcja skrótu, niech to będzie SHA-256.\n",
    "\n",
    "2) Zakoduj $h$ jako liczbę.\n",
    "\n",
    "3) Oblicz $SIG = h^d$ mod $n$.\n",
    "\n",
    "4) Wyślij parę $(M, SIG)$ weryfikującemu."
   ]
  },
  {
   "cell_type": "markdown",
   "metadata": {
    "id": "xcMiT4DhOoOt"
   },
   "source": [
    "Naiwna metoda weryfikacji podpisu $(M, SIG)$:\n",
    "\n",
    "1) Oblicz $h = H(M)$. H to uzgodniona funkcja skrótu, niech to będzie SHA-256.\n",
    "\n",
    "2) Zakoduj $h$ jako liczbę.\n",
    "\n",
    "3) Oblicz $VER = SIG^e$ mod $n$.\n",
    "\n",
    "4) Jeżeli $VER = h$, weryfikacja przebiegła pomyślnie, a w przeciwnym razie niepomyślnie."
   ]
  },
  {
   "cell_type": "markdown",
   "metadata": {
    "id": "Jx86zFg6PDDs"
   },
   "source": [
    "**Zadanie 4**\n",
    "\n",
    "Zaimplementuj naiwną metodę tworzenia i weryfikowania podpisu cyfrowego RSA."
   ]
  },
  {
   "cell_type": "code",
   "execution_count": 182,
   "metadata": {},
   "outputs": [],
   "source": [
    "def rsa_sign(m):\n",
    "    h = hl.sha256(m).digest()\n",
    "    nh = cn.Integer.from_bytes(h)\n",
    "    SIG = nh.inplace_pow(d, n)\n",
    "    return SIG.to_bytes()\n",
    "\n",
    "def rsa_verify(m, SIG):\n",
    "    VER = cn.Integer.from_bytes(SIG).inplace_pow(e, n)\n",
    "    return VER == cn.Integer.from_bytes(hl.sha256(m).digest())"
   ]
  },
  {
   "cell_type": "code",
   "execution_count": 183,
   "metadata": {
    "id": "Y7OSfmf0PJ2Q"
   },
   "outputs": [
    {
     "name": "stdout",
     "output_type": "stream",
     "text": [
      "b'\\\\u\\xf5\\xc4>\\xd3\\xb0\\xe3a\\x8d@\\x87\\x9d\\x8f\\xd2t\\x84\\xc2v\\xc3\\xef\\\\ \\xdc\\x06\\x9c>\\xb2\\x90\\x80\\xa9\\x83\\xb5\\x82\\xa0I\\x0f\\x95\\xa8\\xe9\\xdf\\xb5\\xd04\\xa0O\\x1d\\xdcY\\xf0\\x0b\\'\\xc3\\xf2\\xcc\\xbas9\\x0cH5b\\x86\\xf5\\x03\\xc3\\xa8ls\\x0f\\x17Y\\xea\\x08\\xab^\\x98\\x97\\x92?\\xa0P8\\xa6PS}\\xdfE\\x88k\\xc8\\x0c\\x8b\\xba\\x1b\\xac\\x94\\xef\\x7fX\\x00\\x12\\x87\\x8e8\\xa6\\xc6d\\r\\x95\\x8d1\\xa9a\\xb1\\xe9W\\xb09\\xe1\\xef\\x85^\\xb1\\x94\\xc1_H\\xb3E\\xfe\\xc1\\xdd$\\xdb\\xfa\\x0f\\xd2\\xe7\\x95\\x9b5\\xf1z\\x9d\\xb2\\xb5\\xcb\\x0c@&^\\xd0\\xeb\\x82\\xb0 \\t\\xe1\\xf2YMb-\\xdb\\x15h\\xb33\\xd5\\xaa=\\n\\x03\\x9c\\xb9O(\\x08\\x83\\x0e\\x00\\xea\\xb1\\xe4\\xee\\xc4.\\xa62\\xab+\\xbd\\xde\\xc0\\x97w\\xfb\\xdc_\\xbcYc\"\\xa0}B\\x80\\x81\\x07\\xd3\\x0b\\xb6I\\x96e\\x0e*\\x0e\\xcbT)\\xfdqr\\xaf\\xebG\\xf7\\xe0\\x14\\\\r\\xc0\\xc6\\x0b6X\\xfe\"O\\xb2X\\xfc\\xce?\\r\\x98!\\x9f\\x87~\\xfc\\xc8b'\n",
      "True\n"
     ]
    }
   ],
   "source": [
    "SIG = rsa_sign(M)\n",
    "print(SIG)\n",
    "print(rsa_verify(M, SIG))"
   ]
  },
  {
   "cell_type": "markdown",
   "metadata": {
    "id": "-6MsXDuaIj2C"
   },
   "source": [
    "## MGF 1\n",
    "\n",
    "W dalszej części laboratoriów będziemy potrzebowali generować maskę. Jedynym zatwierdzonym algorytmem który do tego służy jest *Mask Generation Function 1*, opisany w [RFC 8017](https://www.rfc-editor.org/rfc/rfc8017). Jest on stosunkowo prosty. "
   ]
  },
  {
   "cell_type": "markdown",
   "metadata": {
    "id": "wXuwYrpsJzkU"
   },
   "source": [
    "Parametry wejściowe:\n",
    "\n",
    "1) M - bajty wiadomości.\n",
    "\n",
    "2) len - pożądana długość zwórconej maski w bajtach.\n",
    "\n",
    "3) H - wybrana funkcja skrótu, zwracająca $n$ bitowy skrót. Niech to będzie SHA-256. Dla wygody przyjmijmy też, że $hlen = n / 8$ oznacza liczbę bajtów zwracaną przez naszą funkcję skrótu.\n",
    "\n",
    "Wyjściem funkcji są bajty tworzące maskę."
   ]
  },
  {
   "cell_type": "markdown",
   "metadata": {
    "id": "oriQJLCvJ0vM"
   },
   "source": [
    "Algorytm MGF-1:\n",
    "\n",
    "1) Dla 32-biotwego integera $i = 0, ..., ⌈ \\frac{len}{hlen}⌉ - 1$ wykonuj kroki 2 i 3.\n",
    "\n",
    "2) Oblicz tmp = H(M || i). Znak || to konkatenacja i chodzi tu o bajty wiadomości M oraz reprezentację w bajtach 32-bitowego itegera $i$.\n",
    "\n",
    "3) Oblicz output = output || tmp.\n",
    "\n",
    "4) Zwróc $len$ wiodących bajtów zmiennej output."
   ]
  },
  {
   "cell_type": "markdown",
   "metadata": {
    "id": "o-AkA1mHK7cp"
   },
   "source": [
    "**Zadanie 5**\n",
    "\n",
    "Zaprogramuj i przetestuj dla dowolnych wartości funkcję MGF1."
   ]
  },
  {
   "cell_type": "code",
   "execution_count": 184,
   "metadata": {
    "id": "rrBuKJWZLCV9"
   },
   "outputs": [],
   "source": [
    "def octet_string(i, octets=4):\n",
    "    s = \"\"\n",
    "    s += str((i >> 24) & 0xff).zfill(3)\n",
    "    s += str((i >> 16) & 0xff).zfill(3)\n",
    "    s += str((i >> 8) & 0xff).zfill(3)\n",
    "    s += str(i & 0xff).zfill(3)\n",
    "    return s.encode(\"utf-8\")\n",
    "\n",
    "def mgf1(M, l):\n",
    "    out = b''\n",
    "    for i in range(0, cu.ceil_div(l, 32)):\n",
    "        tmp = hl.sha256(M + octet_string(i)).digest()\n",
    "        out += tmp\n",
    "    return out[:l]"
   ]
  },
  {
   "cell_type": "markdown",
   "metadata": {
    "id": "K3gM9vGyPtna"
   },
   "source": [
    "## OAEP\n",
    "\n",
    "Nasz schemat ma na ten moment jedną sporą wadę, mianowicie rozmiar szyfrowanej wiadomości może być zbyt mały, czyniąc algorytm mniej bezpiecznym. Aby tego uniknąć, używamy algorytmu paddingu opisanego w [RFC 8017](https://www.rfc-editor.org/rfc/rfc8017#section-8), który zwie się *Optimal Assymetric Encryption Padding*."
   ]
  },
  {
   "cell_type": "markdown",
   "metadata": {
    "id": "PFJW4wW5QjjH"
   },
   "source": [
    "### OAEP encoding"
   ]
  },
  {
   "cell_type": "markdown",
   "metadata": {
    "id": "0BTXF8j6Reel"
   },
   "source": [
    "Parametry wejściowe:\n",
    "\n",
    "1) $H$ - funkcja skrótu SHA-256, oraz $hlen$ czyli długość zwracanego skrótu w bajtach.\n",
    "\n",
    "2) $k$ - długość liczby $n$ wyrażona w bajtach.\n",
    "\n",
    "3) $mlen$ - długość wiadomości wyrażona w bajtach.\n",
    "\n",
    "4) $M$ - bajty wiadomości.\n",
    "\n",
    "5) $mgf1$ - Mask Generation Function 1."
   ]
  },
  {
   "cell_type": "markdown",
   "metadata": {
    "id": "YWse9bSFRfmu"
   },
   "source": [
    "Algorytm:\n",
    "\n",
    "1) Jeżeli $mlen > k - 2*hlen - 2$ zwróc błąd.\n",
    "\n",
    "2) Oblicz: $lHash = H(\"\")$.\n",
    "\n",
    "3) Wygeneruj tablicę bajtów $PS$ składającą się z $k - mlen - 2*hlen - 2$ bajtów o wartości 0x00. Rozmiar $PS$ może wynosić 0.\n",
    "\n",
    "4) Oblicz: $DB = lHash || PS || 0x01 || M$. Długość $DB$ powinna wynosić $k - hlen - 1$ bajtów.\n",
    "\n",
    "5) Wygeneruj losową tablicę bajtów $seed$ o rozmiarze $hlen$.\n",
    "\n",
    "6) Oblicz: $dbMask = mgf1(seed, k - hlen - 1)$.\n",
    "\n",
    "7) Oblicz: $maskedDB = DB ⊕ dbMask$.\n",
    "\n",
    "8) Oblicz: $seedMask = mgf1(maskedDB, hlen)$.\n",
    "\n",
    "9) Oblicz: $maskedSeed = seed ⊕ seedMask$.\n",
    "\n",
    "10) Oblicz: $EM = 0x00 || maskedSeed || maskedDB$. Długość $EM$ powinna wynosić $k$.\n",
    "\n",
    "11) Zwróc $EM$."
   ]
  },
  {
   "cell_type": "markdown",
   "metadata": {
    "id": "lwJfZ28SUeKC"
   },
   "source": [
    "### OAEP decoding"
   ]
  },
  {
   "cell_type": "markdown",
   "metadata": {
    "id": "i21JfT9TUlXN"
   },
   "source": [
    "Parametry wejściowe:\n",
    "\n",
    "1) $H$ - funkcja skrótu SHA-256, oraz $hlen$ czyli długość zwracanego skrótu w bajtach.\n",
    "\n",
    "2) $k$ - rozmiar EM wyrażony w bajtach.\n",
    "\n",
    "3) $mgf1$ - Mask Generation Function 1.\n",
    "\n",
    "4) $EM$ - bajty zakodowanej wiadomości."
   ]
  },
  {
   "cell_type": "markdown",
   "metadata": {
    "id": "Toe-FHBzU1n-"
   },
   "source": [
    "Algorytm:\n",
    "\n",
    "1) Rozpakuj tablicę bajtów $EM$. Jej pierwszy bajt (najbardziej znaczący) przypisz do $Y$. Kolejne $hlen$ bajtów przypisz do $maskedSeed$, resztę do $maskedDB$. Czyli $EM = Y || maskedSeed || maskedDB$.\n",
    "\n",
    "2) Oblicz: $lHash = H(\"\")$.\n",
    "\n",
    "3) Oblicz: $seedMask = mgf1(maskedDB, hlen)$.\n",
    "\n",
    "4) Oblicz: $seed = maskedSeed ⊕ seedMask$.\n",
    "\n",
    "5) Oblicz: $dbMask = mgf1(seed, k - hlen - 1)$.\n",
    "\n",
    "6) Oblicz: $DB = maskedDB ⊕ dbMask$.\n",
    "\n",
    "7) Rozpkauj tablicę bakjtów $DB$. Pierwsze (najbardziej znaczące) $hlen$ bajtów przypisz do zmiennej $lHash'$. Następne $k - mlen - 2*hlen - 2$ bajtów do PS. Kolejny pojedynczy bajt powinien wynosić 0x01, jeżeli jest inaczej zwróć błąd i **zakończ działanie**. Resztę bajtów przypsiz do zmiennej $M$. Czyli: $DB = lHash' || PS || 0x01 || M$. \n",
    "\n",
    "8) Jeżeli $Y \\neq 0x00$ zwróć błąd i **zakończ działanie**.\n",
    "\n",
    "9) Jeżeli $lHash \\neq lHash'$ zwróć błąd i **zakończ działanie**.\n",
    "\n",
    "10) Zwróc $M$."
   ]
  },
  {
   "cell_type": "markdown",
   "metadata": {
    "id": "A0yx2wepX4n1"
   },
   "source": [
    "**Zadanie 6**\n",
    "\n",
    "Zaproogramuj kodowanie i dekodowanie OAEP. Zmodyfikuj algorytm szyfrowania RSA, tak, aby przed zaszyfrowaniem wiadomość była paddingowana. Zmodyfikuj algorytm deszyfrowania tak, aby po zdeszyfrowaniu konieczne było wywołanie metody dekodowania OAEP w celu odzyskania wiadomości."
   ]
  },
  {
   "cell_type": "code",
   "execution_count": 185,
   "metadata": {},
   "outputs": [],
   "source": [
    "def xor(vs):\n",
    "    return vs[0]^vs[1]\n",
    "\n",
    "class Bytes():\n",
    "    def __init__(self, _bytes):\n",
    "        self._bytes = _bytes\n",
    "        \n",
    "    def __xor__(self, other):\n",
    "        return Bytes(bytes(map(xor, zip(self._bytes, other._bytes))))"
   ]
  },
  {
   "cell_type": "code",
   "execution_count": 186,
   "metadata": {},
   "outputs": [],
   "source": [
    "import random\n",
    "\n",
    "def randombytes(l):\n",
    "    return bytes([random.randrange(0, 256) for _ in range(l)])"
   ]
  },
  {
   "cell_type": "code",
   "execution_count": 187,
   "metadata": {},
   "outputs": [],
   "source": [
    "def H(v):\n",
    "    return hl.sha256(v).digest()"
   ]
  },
  {
   "cell_type": "code",
   "execution_count": 262,
   "metadata": {},
   "outputs": [],
   "source": [
    "def oaep_padding(m):\n",
    "    hlen = 32\n",
    "    k = nlen // 8\n",
    "    mlen = len(m)\n",
    "\n",
    "    if mlen > k - 2*hlen - 2:\n",
    "        raise Exception(\"Błąd\")\n",
    "\n",
    "    lHash = H(b\"\")\n",
    "    PS = b\"\\x00\" * (k - mlen - 2*hlen - 2)\n",
    "    DB = lHash + PS + b\"\\x01\" + m\n",
    "\n",
    "    if len(DB) != k-hlen-1:\n",
    "        raise Exception(\"Błąd\")\n",
    "\n",
    "    seed = randombytes(hlen)\n",
    "    dbMask = mgf1(seed, k - hlen - 1)\n",
    "    maskedDB = (Bytes(DB) ^ Bytes(dbMask))._bytes\n",
    "    seedMask = mgf1(maskedDB, hlen)\n",
    "    maskedSeed = (Bytes(seed) ^ Bytes(seedMask))._bytes\n",
    "    EM = b\"\\x00\" + maskedSeed + maskedDB\n",
    "\n",
    "    if len(EM) != k:\n",
    "        raise Exception(\"Błąd\")\n",
    "        \n",
    "    return EM\n",
    "\n",
    "def oaep_remove(EM, mlen):\n",
    "    hlen = 32\n",
    "    k = nlen // 8\n",
    "\n",
    "    #może uciąć początkowe \\x00\n",
    "    EM = b\"\\x00\"*(k - len(EM)) + EM\n",
    "\n",
    "    Y, maskedSeed, maskedDB = EM[0], EM[1:hlen+1], EM[hlen+1:]\n",
    "    lHash = H(b\"\")\n",
    "    seedMask = mgf1(maskedDB, hlen)\n",
    "    seed = (Bytes(maskedSeed) ^ Bytes(seedMask))._bytes\n",
    "    dbMask = mgf1(seed, k - hlen - 1)\n",
    "    DB = (Bytes(maskedDB) ^ Bytes(dbMask))._bytes\n",
    "\n",
    "    if DB[hlen+(k-mlen-2*hlen-2)] != 1:\n",
    "        raise Exception(\"Błąd\")\n",
    "    lHash_p, PS, dM = DB[:hlen], DB[hlen:hlen+(k-mlen-2*hlen-2)], DB[hlen+(k-mlen-2*hlen-2)+1:]\n",
    "\n",
    "    if Y != 0:\n",
    "        raise Exception(\"Błąd\")\n",
    "\n",
    "    if lHash != lHash_p:\n",
    "        raise Exception(\"Błąd\")\n",
    "\n",
    "    return dM"
   ]
  },
  {
   "cell_type": "code",
   "execution_count": 263,
   "metadata": {},
   "outputs": [
    {
     "name": "stdout",
     "output_type": "stream",
     "text": [
      "b'\\x00h\\x82\\xb3\\x16k\\xb3\\xd0\\xbe\\xa4\\xaf\\xe4l\\xeb\\x1f\\xc6\\x00%J\\xe7\\x0cM\\nU\\x88~|T\\x80;\\xd9\\x97>\\xc6\\xb1\"\\x81}\\xb5\\xc49G\\xbdt\\xc3\\xeb\\xec\\xa5R!+\\xe6\\xa2\\xc0\\xfc\\xbes`\\xe4oZ\\xdb|\\xa5\\xd8X\\xd9\\xef\\xc1\\x93r\\xa2\\x11Q4S\\xba\\xdc\\xbcj\\xd1\\xba\\x95\\xeeg\\xd2\\x1eg\\x9e\\x90K\"4\\x80\\x16\\xfbv%\\x97\\x8c\\xac\\xcbO\\x85\\x8c.\\xaa2\\xf3\\xc7\\xd9\\x96#\\xbe\\xb0\\xba\\xda\\xf0!U\\xe4\\x94\\xd2\\xebCa\\x15K\\xc5@\\xe9\\x95\\x01]\"\\xf1,\\xd9\\x861\\xbc9\\xba\\xa2:\\x82+\\xa4A\\xcc:n5\\x1b\\xed\\x92\\x7f\\xd1\\x1dB\\xb7ZJ\\xa7\\xc9\\xa3\\x1f7{\\xa1-\\xdc\\xfb\\xc5\\xd0\\x85b\\xe9\\x16\\xdbm=\\x86wo\\x1b4\\xf9u\\xbbV\\x7fw\\xb4]S=\\x8b3\\x8d\\xd5E\\xdfN\\xdaL\\x98$\\x05\\x8fCC\\x074Sx~\\xd0\\x87\\xfeb\\x11\\t\\xe6Q\\xe2\\xab\\x9b\\xd6\\x86\\t\\'\\xad\\r\\xcd\\x14o\\xa5\"t\\xfd\\x98\\xa3W\\xa1\\x14\\xd9\\nU\\x1c}\\x19-\\x0bs\\xac'\n",
      "b'\\xa1eL\\xe4m-\\x7f\\x8d[\\xd2\\x0co\\xe0j\\xafvJ4\\xc7D\\xbe\\x13\\xc4\\xfb\\x04\\x89\\xb2^@\\xefe\\x888\\xa1\\xe4CZ\\x04u%a\\x10\\x9e\\xacy\\xe3\\x99YHL\\x14\\x81*\\xdfN\\x8d\\xa2\\x85\\xdaE\\xbf\\xc66\\xe4dR\\xabKh\\xebiL\\xad)\\x7f\\xb2\\x00\\x12\\xfc\\x15f\\x12\\xe5u1@\\x1d\\xfd\\xd6\\xee\\xe0\\xd1\\x95i\\xef\\x993\\xde\\x9c\\x8d;Z_&\\xad](\\xcb\\xdd\\xed\\x0f\\x0cS\\x833d\\xc4Ja~\\xaa\\xab\\x9a\\xa7\\xffs\\x81\\xbef\\x85\\x14&\\xee\\xe6\\xeb\\x00\\xfe9\\x19\\xbe\\xe5QG\\x10\\x9d\\x1bB\\xd3\\x99\\xbc~\\x05\\x0f\\xda\\xfd\\xa5\\xf0\\xfe\\xc9\\x18\\xfd\\x87@^L-Y\\x80\\xb7y\\xdf\\xd3A\\x0bWxzo\\xd9(\\xe4\\x93nZ\\x0c\\xf7\\x8b\\xa2\\x04\\rl*\\xf3\\x8a\\xd3\\xf5$\\xcch{\\x80\\x9a\\n>\\x18@\\x82\\x90s8\\xb6HZ+\\xca\\x8f\\xf3A\\xd8\\xd6\\x8a\\xe4\\xa9\\nU;\\xf6;3;\\x07\\xc2\\xc3\\xf4\\x8f\\xfa\\xcc\\xa0\"\\x00\\x95\\xbf\\xb5\\xfa\\'Mh\\xa4\\xdeF\\xce\\x83\\x8f\\xd5\\x91\\x1b'\n",
      "b'h\\x82\\xb3\\x16k\\xb3\\xd0\\xbe\\xa4\\xaf\\xe4l\\xeb\\x1f\\xc6\\x00%J\\xe7\\x0cM\\nU\\x88~|T\\x80;\\xd9\\x97>\\xc6\\xb1\"\\x81}\\xb5\\xc49G\\xbdt\\xc3\\xeb\\xec\\xa5R!+\\xe6\\xa2\\xc0\\xfc\\xbes`\\xe4oZ\\xdb|\\xa5\\xd8X\\xd9\\xef\\xc1\\x93r\\xa2\\x11Q4S\\xba\\xdc\\xbcj\\xd1\\xba\\x95\\xeeg\\xd2\\x1eg\\x9e\\x90K\"4\\x80\\x16\\xfbv%\\x97\\x8c\\xac\\xcbO\\x85\\x8c.\\xaa2\\xf3\\xc7\\xd9\\x96#\\xbe\\xb0\\xba\\xda\\xf0!U\\xe4\\x94\\xd2\\xebCa\\x15K\\xc5@\\xe9\\x95\\x01]\"\\xf1,\\xd9\\x861\\xbc9\\xba\\xa2:\\x82+\\xa4A\\xcc:n5\\x1b\\xed\\x92\\x7f\\xd1\\x1dB\\xb7ZJ\\xa7\\xc9\\xa3\\x1f7{\\xa1-\\xdc\\xfb\\xc5\\xd0\\x85b\\xe9\\x16\\xdbm=\\x86wo\\x1b4\\xf9u\\xbbV\\x7fw\\xb4]S=\\x8b3\\x8d\\xd5E\\xdfN\\xdaL\\x98$\\x05\\x8fCC\\x074Sx~\\xd0\\x87\\xfeb\\x11\\t\\xe6Q\\xe2\\xab\\x9b\\xd6\\x86\\t\\'\\xad\\r\\xcd\\x14o\\xa5\"t\\xfd\\x98\\xa3W\\xa1\\x14\\xd9\\nU\\x1c}\\x19-\\x0bs\\xac'\n",
      "b'Ala ma kota'\n"
     ]
    }
   ],
   "source": [
    "M = \"Ala ma kota\".encode('utf-8')\n",
    "\n",
    "pM = oaep_padding(M)\n",
    "print(pM)\n",
    "eM = rsa_encode(pM)\n",
    "print(eM)\n",
    "dM = rsa_decode(eM)\n",
    "print(dM)\n",
    "m = oaep_remove(dM, len(M))\n",
    "print(m)"
   ]
  },
  {
   "cell_type": "markdown",
   "metadata": {
    "id": "ug2e_I03YoR1"
   },
   "source": [
    "## EMSA - PSS\n",
    "\n",
    "Utworzenie bezpiecznej sygnatury RSA wymaga zastowania algorytmu *Encoding Method for Signature with Appendix - Probabilistic Signature Scheme* ."
   ]
  },
  {
   "cell_type": "markdown",
   "metadata": {
    "id": "KrWpFTRHZSA7"
   },
   "source": [
    "### EMSA encoding"
   ]
  },
  {
   "cell_type": "markdown",
   "metadata": {
    "id": "bNPN9mqIZT5F"
   },
   "source": [
    "Parametry wejściowe:\n",
    "\n",
    "1) $H$ - funkcja skrótu SHA-256, oraz $hlen$ czyli długość zwracanego skrótu w bajtach.\n",
    "\n",
    "2) $slen$ - długość soli w bajtach, powinna być równa $hlen$.\n",
    "\n",
    "3) $M$ - bajty wiadomości do podpisania.\n",
    "\n",
    "4) $mgf1$ - Mask Generation Function 1.\n",
    "\n",
    "5) $emBits$ - pożądana długość sygnatury w bitach. Jest to najczęściej długość bitowa liczby modulus $n$ pomniejszona o jeden, czyli w naszym przypadku 2047.\n",
    "\n",
    "6) $emlen$ - długość sygnatury w bajtach, równa długości parametru $n$ wyrażonego w bajtach.\n"
   ]
  },
  {
   "cell_type": "markdown",
   "metadata": {
    "id": "6-0Vzuzf_f81"
   },
   "source": [
    "Algorytm:\n",
    "\n",
    "1) Oblicz: $mHash = H(M)$.\n",
    "\n",
    "2) Jeżeli $emlen < hlen + slen + 2$ **zakończ i zwróć błąd**.\n",
    "\n",
    "3) Wygeneruj tablicę losowych bajtów $salt$ o długości $slen$.\n",
    "\n",
    "4) Oblicz: $M' = 0x00 00 00 00 00 00 00 00 || mHash || salt$. Długość $M'$ to $8 + hlen + slen$.\n",
    "\n",
    "5) Oblicz: $mHash' = H(M')$.\n",
    "\n",
    "6) Wygeneruj tablicę $PS$ składającą się z bajtów 0x00 o długości $emlen - slen - hlen - 2$.\n",
    "\n",
    "7) Oblicz: $DB = PS || 0x01 || salt$. Długość $DB$ powinna wynosić $emlen - hlen - 1$ bajtów.\n",
    "\n",
    "8) Oblicz: $dbMask = mgf1(mHash', emlen - hlen - 1)$.\n",
    "\n",
    "9) Oblicz: $maskedDB = DB ⊕ dbMask$.\n",
    "\n",
    "10) Ustaw $8 * emlen - emBits$ **najbardziej znaczących** bitów $maskedDB$ na wartości 0.\n",
    "\n",
    "11) Oblicz: $EM = maskedDB || mHash' || 0xbc$.\n",
    "\n",
    "12) Zwróć $EM$.\n"
   ]
  },
  {
   "cell_type": "code",
   "execution_count": 257,
   "metadata": {},
   "outputs": [],
   "source": [
    "def emsa_sign(m):\n",
    "    hlen = 32\n",
    "    slen = hlen\n",
    "    emBits = nlen - 1\n",
    "    emlen = nlen // 8\n",
    "\n",
    "    mHash = H(m)\n",
    "\n",
    "    if emlen < hlen + slen + 2:\n",
    "        raise \"Błąd\"\n",
    "\n",
    "    salt = randombytes(slen)\n",
    "    M_p = b\"\\x00\"*8 + mHash + salt\n",
    "    mHash_p = H(M_p)\n",
    "    PS = b\"\\x00\"*(emlen - slen - hlen - 2)\n",
    "    DB = PS + b\"\\x01\" + salt\n",
    "    dbMask = mgf1(mHash_p, emlen - hlen - 1)\n",
    "    maskedDB = (Bytes(DB) ^ Bytes(dbMask))._bytes\n",
    "\n",
    "    zeroBytes = (8 * emlen - emBits) // 8\n",
    "    reminderZeroBits = (8 * emlen - emBits) - 8*zeroBytes\n",
    "    maskedDB = bytes([0 if i < zeroBytes else b for i,b in enumerate(maskedDB)])\n",
    "    reminderByte = maskedDB[zeroBytes] & (0xff >> reminderZeroBits)\n",
    "    maskedDB = bytes([reminderByte if i == zeroBytes else b for i,b in enumerate(maskedDB)])\n",
    "\n",
    "    return maskedDB + mHash_p + b\"\\xbc\""
   ]
  },
  {
   "cell_type": "markdown",
   "metadata": {
    "id": "HWbbbw1DCGpr"
   },
   "source": [
    "## EMSA decoding"
   ]
  },
  {
   "cell_type": "markdown",
   "metadata": {
    "id": "xR6QyzduCIoc"
   },
   "source": [
    "Parametry wejściowe:\n",
    "\n",
    "1) $H$ - funkcja skrótu SHA-256, oraz $hlen$ czyli długość zwracanego skrótu w bajtach.\n",
    "\n",
    "2) $slen$ - długość soli w bajtach, powinna być równa $hlen$.\n",
    "\n",
    "3) $EM$ - sygnatura wiadomości $M$.\n",
    "\n",
    "4) $M$ - bajty wiadomości do weryfikacji.\n",
    "\n",
    "4) $mgf1$ - Mask Generation Function 1.\n",
    "\n",
    "5) $emBits$ - długość sygnatury w bitach. Jest to najczęściej długość bitowa liczby modulus $n$ pomniejszona o jeden, czyli w naszym przypadku 2047.\n",
    "\n",
    "6) $emlen$ - długość sygnatury w bajtach, równa długości parametru $n$ wyrażonego w bajtach."
   ]
  },
  {
   "cell_type": "markdown",
   "metadata": {
    "id": "MqZUQgT6CspI"
   },
   "source": [
    "Algorytm:\n",
    "\n",
    "1) Oblicz: $mHash = H(M)$.\n",
    "\n",
    "2) Jeżeli $emlen < hlen + slen + 2$ **zakończ i zwróć błąd weryfikacji**.\n",
    "\n",
    "3) Jeżeli ostatni bajt (najmniej znaczący) $EM$ nie ma wartości 0xbc **zakończ i zwróć błąd weryfikacji**.\n",
    "\n",
    "4) Podstaw $emlen - hlen - 1$ najbardziej znaczących bajtów do $maskedDB$ oraz kolejne $hlen$ bajtów do $mHash'$.\n",
    "\n",
    "5) Jeżeli $8 * emlen - emBits$ najbardziej znaczących bitów $maskedDB$ nie ma wartości 0, **zakończ i zwróć błąd weryfikacji**.\n",
    "\n",
    "6) Oblicz: $dbMask = mgf1(mHash', emlen - hlen - 1)$.\n",
    "\n",
    "7) Oblicz: $DB = maskedDB ⊕ dbMask$.\n",
    "\n",
    "8) Ustaw $8 * emlen - emBits$ najbardziej znaczących bitów $DB$ na 0.\n",
    "\n",
    "9) Jeżeli $emlen - hlen - slen - 2$ najbardziej znaczących bajtów $DB$ nie posiada wartości 0x00 lub gdy bajt na pozycji $emlen - hlen - slen - 1$ (licząc od najbardziej znaczącego) nie posiada wartości 0x01 **zakończ i zwróć błąd weryfikacji**.\n",
    "\n",
    "10) Przypisz do zmiennej $salt$ dokładnie $slen$ najmniej znaczących bajtów $DB$.\n",
    "\n",
    "11) Oblicz: $M' = 0x00 00 00 00 00 00 00 00 || mHash || salt$. Długość $M'$ to $8 + hlen + slen$.\n",
    "\n",
    "12) Oblicz $mHash'' = H(M')$.\n",
    "\n",
    "13) Jeżeli $mHash' \\neq mHash''$ **zakończ i zwróć błąd weryfikacji**, w przeciwnym razie **weryfikacja powiodła się**.\n"
   ]
  },
  {
   "cell_type": "code",
   "execution_count": 258,
   "metadata": {},
   "outputs": [],
   "source": [
    "def emsa_verify(m, EM):\n",
    "    mHash = H(m)\n",
    "\n",
    "    if emlen < hlen + slen + 2:\n",
    "        return False\n",
    "\n",
    "    if EM[-1] != 0xbc:\n",
    "        return False\n",
    "\n",
    "    maskedDB, mHash_p = EM[:emlen-hlen-1], EM[emlen-hlen-1:emlen-hlen-1+hlen]\n",
    "\n",
    "    zeroBytes = (8 * emlen - emBits) // 8\n",
    "    reminderZeroBits = (8 * emlen - emBits) - 8*zeroBytes\n",
    "    if sum(maskedDB[:zeroBytes]) + (maskedDB[zeroBytes] & (0xff << (8 - reminderZeroBits))) != 0:\n",
    "        return False\n",
    "\n",
    "    dbMask = mgf1(mHash_p, emlen - hlen - 1)\n",
    "    DB = (Bytes(maskedDB) ^ Bytes(dbMask))._bytes\n",
    "\n",
    "    zeroBytes = (8 * emlen - emBits) // 8\n",
    "    reminderZeroBits = (8 * emlen - emBits) - 8*zeroBytes\n",
    "    DB = bytes([0 if i < zeroBytes else b for i,b in enumerate(DB)])\n",
    "    reminderByte = DB[zeroBytes] & (0xff >> reminderZeroBits)\n",
    "    DB = bytes([reminderByte if i == zeroBytes else b for i,b in enumerate(DB)])\n",
    "\n",
    "    if sum(DB[:emlen - hlen - slen - 2]) != 0 and DB[emlen - hlen - slen - 1] != 1:\n",
    "        return False\n",
    "\n",
    "    salt = DB[-slen:]\n",
    "    M_p = b\"\\x00\"*8 + mHash + salt\n",
    "    mHash_pp = H(M_p)\n",
    "\n",
    "    if mHash_p != mHash_pp:\n",
    "        return False\n",
    "        \n",
    "    return True"
   ]
  },
  {
   "cell_type": "markdown",
   "metadata": {
    "id": "wrxJHSkyIvz5"
   },
   "source": [
    "**Zadanie 7**\n",
    "\n",
    "Zaprogramuj kodowanie i dekodowanie EMSA, a następnie popraw algorytmy tworzenia i weryfikacji podpisu cyfrowego RSA. Tworzenie podpisu powinno wyglądać tak, że wiadomość najpierw jest kodowana z wykorzystaniem EMSA, a później tworzony jest popdis z wykorzystaniem klucza prywatnego. Dekodowanie powinno wyglądać tak, że najpierw używany jest klucz publiczny do odtworzenia podpisu EMSA, a następnie wykorzystywane jest dekodowanie EMSA w celu weryfikacji."
   ]
  },
  {
   "cell_type": "code",
   "execution_count": 259,
   "metadata": {
    "id": "S-TbQA4NJrl3"
   },
   "outputs": [
    {
     "name": "stdout",
     "output_type": "stream",
     "text": [
      "b'_\\x1f|b\\t\\x9cv\\xb0\\xc9\\xa3v[D\\xe0\\xb0JL\\x17\\xb5\\x06&\\xf2\\xee\\xbc\\xe7ZW\\x17OY\\xcd\\xc4E3\\xd1\\x02DE\\xe6k\\x8f.\\xdcB\\xbc\\x07\\x0b\\xeat\\x92 T\\x98\\xb8a\\xa1Hj\\xcd\\x13\\x01\\xa18\\xd18\\xb7\\xa7\\x80\\x83\\xe4\\xf3\\xdb\\xc4C\\xf4\\x1fm\\xab\\xd3F\\x1f\\x1e\\x15\\xe8\\xb7\\xf1\\xa0+\\\\l\\x84a7K\\x85\\xc7M>\\xe0O9\\xe3\\xd4>\\xe0\\xb4m\\xf8\\xfe\\xdeO\\xba\\x9f\\xa9d\\xff\\xb1-JW\\xab\\xacg\\x03\\x1a\\xf8N\\xd7\\x89\\xa9Pe\\xd9\\xba\\x85Gq\\xd0A6+\\x06\\x88J\\x9a\\x814\\xa7\\xe7\\x12\\x9a\\xea\\x88\\xc1\\xfa\\xbc^\\xa0\\x16\\\\\\xac\\xb03\\xaa\\xfe \\xe0\\x96\\xcc\\x0c\\xb7\\xbf\\xc0\\xe4\\x96\\xebP\\xa5\\xd0_S\\x16}\\xd4\\xfc6\\x14\\xf2R\\x8b\\xf5\\xed\\x9ca^\\xeb\\xe1@8\\x1a\\x83\\x86\\xb1\\xd7f\\xa9\\r\\x82\\x81\\x88\\xedA\\x8f\\x97\\xabdeL\\x12{m3\\x95\\x8cnY\\xf0^-\\xf9\\xd7\\xf5\\x92\\xecw\\xdesd\\xf0i\\xd8\\xb6\\xfdmA\\x91\\x8fL3\\xc1\\x97\\xab|S\\xe7\\xbc'\n",
      "b'\\'r\\x05&\\x95Y\\xe5\\xe2\\xb6\\x03\\xc1\\x86,k\\x0b\\x1d\\xe4\\xac\\xa4/\\xb7)\\x91M\\xfc\\xb6\\x88\\xa1\\x9a\\xadM\\x8b\\x99\\xa4*p\\xdb\\xa5:\\x1ez3y\\xccI>\\xf7\\xf8\\x96\\xba\\x14\\xfe\\x15\\xd6N\\xf2\\xb1\\xe5\\xc0\\x13\\xd3\\xef\\x82\\xd3]\\xcb\\xe1\\x88\\xdb7]\\xb3z\\xb5\\x1b\\xd7V\\xc8f-\\x94\\xfc\\xc1]OG\\xcap\\xda\\x1a\\x8b\\xf4C\\xa1bb\\xf5\\xb8g)Rd\\xc1WF\\xa7%\\xdd\\xdb\\x94\\xda\\xbb\\r\\xee\\xa4\\xbe|\\x00=\\xcf\\x80,(z\\x1c\\xbe\\xa1\"\\xb9\\x82\\x1cR\\x91U\\x04=5\\x00\\x13(wx\\x11\\xc8\\xd1\\x9c\\'\\x00-\\xc2\\xa8_\\xce\\x88\\xa2\"t\\xfc@m\\xc7\\x8c\\x1e\\x93\\xf7j+u\\x08p\\xfe:\\xd2\\xd0\\xe5\\x16\\xf6\\x9d\\x81<\\xfe>X\\x0c\\x9d(\\xfe\\x17\\xfa\\xd7\\x0fr\\x12\\xf4\\x9b\\x9a\\x19\\x05K2\\x00\\x89\\xf8\\xe7\\xfb\\xb3Z\\xa6\\'D\\xa9\\xc3\\x0bs\\x95\\xb3lT\\xa0\\x1aS\"\\xd9(\\xab\\x18pk6+\\xa7\\x8b:\\x89\\xed\\xe7!o\\xd1p\\x03\\x92gr(0\\xd1U\\x99\\n\\xa30\\xf7M\\xbd\\xfe'\n",
      "b'_\\x1f|b\\t\\x9cv\\xb0\\xc9\\xa3v[D\\xe0\\xb0JL\\x17\\xb5\\x06&\\xf2\\xee\\xbc\\xe7ZW\\x17OY\\xcd\\xc4E3\\xd1\\x02DE\\xe6k\\x8f.\\xdcB\\xbc\\x07\\x0b\\xeat\\x92 T\\x98\\xb8a\\xa1Hj\\xcd\\x13\\x01\\xa18\\xd18\\xb7\\xa7\\x80\\x83\\xe4\\xf3\\xdb\\xc4C\\xf4\\x1fm\\xab\\xd3F\\x1f\\x1e\\x15\\xe8\\xb7\\xf1\\xa0+\\\\l\\x84a7K\\x85\\xc7M>\\xe0O9\\xe3\\xd4>\\xe0\\xb4m\\xf8\\xfe\\xdeO\\xba\\x9f\\xa9d\\xff\\xb1-JW\\xab\\xacg\\x03\\x1a\\xf8N\\xd7\\x89\\xa9Pe\\xd9\\xba\\x85Gq\\xd0A6+\\x06\\x88J\\x9a\\x814\\xa7\\xe7\\x12\\x9a\\xea\\x88\\xc1\\xfa\\xbc^\\xa0\\x16\\\\\\xac\\xb03\\xaa\\xfe \\xe0\\x96\\xcc\\x0c\\xb7\\xbf\\xc0\\xe4\\x96\\xebP\\xa5\\xd0_S\\x16}\\xd4\\xfc6\\x14\\xf2R\\x8b\\xf5\\xed\\x9ca^\\xeb\\xe1@8\\x1a\\x83\\x86\\xb1\\xd7f\\xa9\\r\\x82\\x81\\x88\\xedA\\x8f\\x97\\xabdeL\\x12{m3\\x95\\x8cnY\\xf0^-\\xf9\\xd7\\xf5\\x92\\xecw\\xdesd\\xf0i\\xd8\\xb6\\xfdmA\\x91\\x8fL3\\xc1\\x97\\xab|S\\xe7\\xbc'\n",
      "True\n"
     ]
    }
   ],
   "source": [
    "m = \"Ala ma podpis\".encode('utf-8')\n",
    "\n",
    "EM = emsa_sign(m)\n",
    "print(EM)\n",
    "SIG = rsa_encode(EM)\n",
    "print(SIG)\n",
    "VER = rsa_decode(SIG)\n",
    "print(VER)\n",
    "print(emsa_verify(m, EM))"
   ]
  },
  {
   "cell_type": "markdown",
   "metadata": {
    "id": "d7txLS64JZI-"
   },
   "source": [
    "## RSA - KEM\n",
    "\n",
    "RSA - KEM, czyli z ang. *Key Encapsulation Mechanism* to prosty algorytm dedykowany do wymiany klucza symetrycznego. Obie strony dysponują uzgodnioną funkcją skótu H. Instancja, która chce **otrzymać** tajny klucz do komunikacji symetrycznej generuje klucze RSA i udostępnia swój klucz publiczny. Instancja, która chce wygenerować tajny klucz do komunikacji symetrycznej dysponuje kluczem publicznym instancji, która chce go otrzymać."
   ]
  },
  {
   "cell_type": "markdown",
   "metadata": {
    "id": "tl7cu30PJ1lk"
   },
   "source": [
    "Instancja generująca klucz symetryczny:\n",
    "\n",
    "1) Znajdź losową liczbę $RAND$ spełniającą warunki OAEP.\n",
    "\n",
    "2) Oblicz: $KEY = H(RAND)$. Jeżeli trzeba, przytnij $KEY$ do odpowiedniej długości.\n",
    "\n",
    "3) Oblicz: $CIPHERED\\_KEY = RSA\\_OAEP\\_ENCODING(KEY, (e, n))$.\n",
    "\n",
    "4) Wyślij $CIPHERED\\_KEY$."
   ]
  },
  {
   "cell_type": "markdown",
   "metadata": {
    "id": "oFB9JAwULw70"
   },
   "source": [
    "Instancja otrzymująca zaszyfrowany klucz symetryczny:\n",
    "\n",
    "1) Oblicz: $KEY = RSA\\_OAEP\\_DECODING(CIPHERED\\_KEY, (d, n))$\n",
    "\n",
    "2) Jeżeli trzeba przytnij $KEY$ do odpowiedniej długości."
   ]
  },
  {
   "cell_type": "markdown",
   "metadata": {
    "id": "386c_pDZMSRG"
   },
   "source": [
    "Np. AES występuje w wersji 128b, 192b i 256b. Jeżeli jako H przyjmiemy więc SHA-256, nie trzeba przycinać klucza dla algorytmu AES-256. W przeciwnym razie należy klucz odpowiednio przyciąć (z lewej lub prawej, byle obie strony tak samo) i to ta wartość staje się kluczem symetrycznym."
   ]
  },
  {
   "cell_type": "markdown",
   "metadata": {
    "id": "7N66NPBBMpLS"
   },
   "source": [
    "**Zadanie 8**\n",
    "\n",
    "Zasymuluj takową wymianę (bez przycinania klucza)."
   ]
  },
  {
   "cell_type": "code",
   "execution_count": 268,
   "metadata": {
    "id": "Td_Qg2zlMuRt"
   },
   "outputs": [
    {
     "name": "stdout",
     "output_type": "stream",
     "text": [
      "b'5E\\xa5@\\r#Y\\xcd\\xc1\\xb19f\\x9cz>-\\xfc`\\xa92|\\x82\\x86\\x0b.\\xee\\xb8\\xbb\\xa8F\\x14U'\n",
      "b'5E\\xa5@\\r#Y\\xcd\\xc1\\xb19f\\x9cz>-\\xfc`\\xa92|\\x82\\x86\\x0b.\\xee\\xb8\\xbb\\xa8F\\x14U'\n"
     ]
    }
   ],
   "source": [
    "r = random.randrange(0, 2**256).to_bytes(32, \"big\")\n",
    "key = H(r)\n",
    "print(key)\n",
    "ck = rsa_encode(oaep_padding(key))\n",
    "#print(ck)\n",
    "\n",
    "key = oaep_remove(rsa_decode(ck), 32)\n",
    "print(key)"
   ]
  },
  {
   "cell_type": "code",
   "execution_count": null,
   "metadata": {},
   "outputs": [],
   "source": []
  }
 ],
 "metadata": {
  "colab": {
   "provenance": []
  },
  "kernelspec": {
   "display_name": "Python 3",
   "language": "python",
   "name": "python3"
  },
  "language_info": {
   "codemirror_mode": {
    "name": "ipython",
    "version": 3
   },
   "file_extension": ".py",
   "mimetype": "text/x-python",
   "name": "python",
   "nbconvert_exporter": "python",
   "pygments_lexer": "ipython3",
   "version": "3.8.10"
  }
 },
 "nbformat": 4,
 "nbformat_minor": 1
}
